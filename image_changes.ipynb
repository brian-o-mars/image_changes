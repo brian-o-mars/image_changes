{
 "cells": [
  {
   "cell_type": "code",
   "execution_count": 1,
   "metadata": {},
   "outputs": [],
   "source": [
    "from bs4 import BeautifulSoup\n",
    "import urllib\n",
    "import re\n",
    "import requests\n",
    "from PIL import Image, ImageChops\n",
    "from io import BytesIO\n",
    "import time"
   ]
  },
  {
   "cell_type": "code",
   "execution_count": 8,
   "metadata": {},
   "outputs": [],
   "source": [
    "def image_changes():\n",
    "    url = input('Enter URL:')\n",
    "    \n",
    "    html_page = urllib.request.urlopen(url)\n",
    "    soup = BeautifulSoup(html_page)\n",
    "    \n",
    "    #Beautifulsoup finds all images and stores their urls in urls\n",
    "    urls = []\n",
    "    for img in soup.findAll('img'):\n",
    "        urls.append(img.get('src'))\n",
    "        \n",
    "    #Only save the complete urls in new_list. Use 'https' to identify complete urls\n",
    "    new_list = []\n",
    "    for i in urls:\n",
    "        if 'https' in i:\n",
    "            new_list.append(i)\n",
    "        else:\n",
    "            pass\n",
    "        \n",
    "    #Use requests and BytesIO to get and save the image file from the new_list. Image file saved in images\n",
    "    images = []\n",
    "    for item in new_list:\n",
    "        r = requests.get(item)\n",
    "        img = Image.open(BytesIO(r.content))\n",
    "        images.append(img)\n",
    "        \n",
    "    #time delay of 5 minutes\n",
    "    time.sleep(300)\n",
    "    \n",
    "    #Function repeats above\n",
    "    html_page2 = urllib.request.urlopen(url)\n",
    "    soup2 = BeautifulSoup(html_page2)\n",
    "    urls2 = []\n",
    "    \n",
    "    for imgg in soup2.findAll('img'):\n",
    "        urls2.append(imgg.get('src'))\n",
    "    new_list2 = []\n",
    "    \n",
    "    for ii in urls2:\n",
    "        if 'https' in ii:\n",
    "            new_list2.append(ii)\n",
    "        else:\n",
    "            pass\n",
    "        \n",
    "    images2 = []\n",
    "    for itemm in new_list2:\n",
    "        r2 = requests.get(itemm)\n",
    "        img2 = Image.open(BytesIO(r2.content))\n",
    "        images2.append(img2)\n",
    "    \n",
    "    #ImageChops from PIL library compares the image files from the two lists.\n",
    "    differences = []\n",
    "    for a,b in zip(images,images2):\n",
    "        diff = ImageChops.difference(a,b).getbbox()\n",
    "        if diff == None:\n",
    "            pass\n",
    "        else:\n",
    "            differences.append('image change')\n",
    "    if len(differences) > 0:\n",
    "        print('There has been '+ str(len(differences)) + ' image changes on the website since the last 5 minutes')\n",
    "    else:\n",
    "        image_changes()\n",
    "    \n",
    "    \n"
   ]
  },
  {
   "cell_type": "code",
   "execution_count": null,
   "metadata": {},
   "outputs": [],
   "source": []
  }
 ],
 "metadata": {
  "kernelspec": {
   "display_name": "Python 3",
   "language": "python",
   "name": "python3"
  },
  "language_info": {
   "codemirror_mode": {
    "name": "ipython",
    "version": 3
   },
   "file_extension": ".py",
   "mimetype": "text/x-python",
   "name": "python",
   "nbconvert_exporter": "python",
   "pygments_lexer": "ipython3",
   "version": "3.8.2"
  }
 },
 "nbformat": 4,
 "nbformat_minor": 4
}
